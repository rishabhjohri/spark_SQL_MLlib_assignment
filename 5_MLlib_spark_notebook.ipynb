{
  "cells": [
    {
      "cell_type": "markdown",
      "source": [
        "Rishabh Johri\n",
        "\n",
        "rjohri@deloitte.com"
      ],
      "metadata": {
        "id": "4s_5w4QQYB27"
      },
      "id": "4s_5w4QQYB27"
    },
    {
      "cell_type": "markdown",
      "id": "47e7e12c",
      "metadata": {
        "id": "47e7e12c"
      },
      "source": [
        "# Spark MLlib: Predicting Repeat Customer Purchase"
      ]
    },
    {
      "cell_type": "markdown",
      "id": "190c662c",
      "metadata": {
        "id": "190c662c"
      },
      "source": [
        "\n",
        "This notebook demonstrates how to use **PySpark MLlib** to build a classification model that predicts whether a customer is likely to make a repeat purchase.\n",
        "\n",
        "We use a toy dataset with features:\n",
        "- Age\n",
        "- Total number of orders\n",
        "- Average order value\n",
        "\n",
        "The target label is `repeat_purchase` (1 = Yes, 0 = No).\n"
      ]
    },
    {
      "cell_type": "code",
      "execution_count": 1,
      "id": "b2f3f9a0",
      "metadata": {
        "id": "b2f3f9a0"
      },
      "outputs": [],
      "source": [
        "from pyspark.sql import SparkSession\n",
        "from pyspark.ml.feature import VectorAssembler\n",
        "from pyspark.ml.classification import DecisionTreeClassifier\n",
        "from pyspark.ml.evaluation import MulticlassClassificationEvaluator\n",
        "from pyspark.ml import Pipeline\n",
        "from pyspark.sql.functions import col"
      ]
    },
    {
      "cell_type": "code",
      "execution_count": 2,
      "id": "98bed0a8",
      "metadata": {
        "id": "98bed0a8"
      },
      "outputs": [],
      "source": [
        "spark = SparkSession.builder \\\n",
        "    .appName(\"RepeatPurchasePrediction\") \\\n",
        "    .getOrCreate()"
      ]
    },
    {
      "cell_type": "code",
      "execution_count": 3,
      "id": "8b36c2ef",
      "metadata": {
        "colab": {
          "base_uri": "https://localhost:8080/"
        },
        "id": "8b36c2ef",
        "outputId": "ed1e6659-34a7-4b68-9bd1-089183e6822b"
      },
      "outputs": [
        {
          "output_type": "stream",
          "name": "stdout",
          "text": [
            "+-----------+---+------------+---------------+---------------+\n",
            "|customer_id|age|total_orders|avg_order_value|repeat_purchase|\n",
            "+-----------+---+------------+---------------+---------------+\n",
            "|          1| 25|           5|           40.0|              1|\n",
            "|          2| 34|           2|           20.0|              0|\n",
            "|          3| 45|          10|           60.0|              1|\n",
            "|          4| 23|           1|           15.0|              0|\n",
            "|          5| 38|           6|           55.0|              1|\n",
            "|          6| 29|           3|           22.0|              0|\n",
            "|          7| 41|           9|           48.0|              1|\n",
            "|          8| 36|           4|           30.0|              0|\n",
            "|          9| 50|          12|           65.0|              1|\n",
            "|         10| 31|           2|           18.0|              0|\n",
            "|         11| 27|           5|           35.0|              1|\n",
            "|         12| 33|           3|           28.0|              0|\n",
            "|         13| 47|          11|           62.0|              1|\n",
            "|         14| 22|           1|           12.0|              0|\n",
            "|         15| 40|           7|           50.0|              1|\n",
            "+-----------+---+------------+---------------+---------------+\n",
            "\n"
          ]
        }
      ],
      "source": [
        "# Load the dataset\n",
        "data = spark.read.csv(\"/content/customer_repeat_purchase.csv\", header=True, inferSchema=True)\n",
        "data.show()"
      ]
    },
    {
      "cell_type": "code",
      "execution_count": 4,
      "id": "acd5c080",
      "metadata": {
        "colab": {
          "base_uri": "https://localhost:8080/"
        },
        "id": "acd5c080",
        "outputId": "b90a8668-d0b1-4afd-f255-54fb769d409a"
      },
      "outputs": [
        {
          "output_type": "stream",
          "name": "stdout",
          "text": [
            "+----------------+-----+\n",
            "|        features|label|\n",
            "+----------------+-----+\n",
            "| [25.0,5.0,40.0]|    1|\n",
            "| [34.0,2.0,20.0]|    0|\n",
            "|[45.0,10.0,60.0]|    1|\n",
            "| [23.0,1.0,15.0]|    0|\n",
            "| [38.0,6.0,55.0]|    1|\n",
            "| [29.0,3.0,22.0]|    0|\n",
            "| [41.0,9.0,48.0]|    1|\n",
            "| [36.0,4.0,30.0]|    0|\n",
            "|[50.0,12.0,65.0]|    1|\n",
            "| [31.0,2.0,18.0]|    0|\n",
            "| [27.0,5.0,35.0]|    1|\n",
            "| [33.0,3.0,28.0]|    0|\n",
            "|[47.0,11.0,62.0]|    1|\n",
            "| [22.0,1.0,12.0]|    0|\n",
            "| [40.0,7.0,50.0]|    1|\n",
            "+----------------+-----+\n",
            "\n"
          ]
        }
      ],
      "source": [
        "# Create feature vector\n",
        "feature_cols = [\"age\", \"total_orders\", \"avg_order_value\"]\n",
        "assembler = VectorAssembler(inputCols=feature_cols, outputCol=\"features\")\n",
        "\n",
        "# Assemble features\n",
        "data_prepared = assembler.transform(data).select(\"features\", col(\"repeat_purchase\").alias(\"label\"))\n",
        "data_prepared.show()"
      ]
    },
    {
      "cell_type": "code",
      "execution_count": 5,
      "id": "a241c0c9",
      "metadata": {
        "id": "a241c0c9"
      },
      "outputs": [],
      "source": [
        "# Split data\n",
        "train_data, test_data = data_prepared.randomSplit([0.7, 0.3], seed=42)"
      ]
    },
    {
      "cell_type": "code",
      "execution_count": 6,
      "id": "a3d34034",
      "metadata": {
        "id": "a3d34034"
      },
      "outputs": [],
      "source": [
        "# Define classifier\n",
        "dt = DecisionTreeClassifier(labelCol=\"label\", featuresCol=\"features\")\n",
        "\n",
        "# Create pipeline\n",
        "pipeline = Pipeline(stages=[dt])\n",
        "\n",
        "# Train model\n",
        "model = pipeline.fit(train_data)"
      ]
    },
    {
      "cell_type": "code",
      "execution_count": 7,
      "id": "dd2b0ce8",
      "metadata": {
        "colab": {
          "base_uri": "https://localhost:8080/"
        },
        "id": "dd2b0ce8",
        "outputId": "4ecdeb13-c7f3-4047-8db4-f6cb067d6488"
      },
      "outputs": [
        {
          "output_type": "stream",
          "name": "stdout",
          "text": [
            "+----------------+-----+----------+\n",
            "|        features|label|prediction|\n",
            "+----------------+-----+----------+\n",
            "| [25.0,5.0,40.0]|    1|       1.0|\n",
            "| [33.0,3.0,28.0]|    0|       0.0|\n",
            "| [36.0,4.0,30.0]|    0|       0.0|\n",
            "| [38.0,6.0,55.0]|    1|       1.0|\n",
            "|[47.0,11.0,62.0]|    1|       1.0|\n",
            "|[50.0,12.0,65.0]|    1|       1.0|\n",
            "+----------------+-----+----------+\n",
            "\n"
          ]
        }
      ],
      "source": [
        "# Make predictions\n",
        "predictions = model.transform(test_data)\n",
        "predictions.select(\"features\", \"label\", \"prediction\").show()"
      ]
    },
    {
      "cell_type": "code",
      "execution_count": 8,
      "id": "db0f92f6",
      "metadata": {
        "colab": {
          "base_uri": "https://localhost:8080/"
        },
        "id": "db0f92f6",
        "outputId": "db0da455-6286-4172-dea6-95e9cc024537"
      },
      "outputs": [
        {
          "output_type": "stream",
          "name": "stdout",
          "text": [
            "Accuracy: 1.00\n",
            "F1 Score: 1.00\n"
          ]
        }
      ],
      "source": [
        "# Evaluate accuracy and F1 score\n",
        "evaluator_acc = MulticlassClassificationEvaluator(labelCol=\"label\", predictionCol=\"prediction\", metricName=\"accuracy\")\n",
        "evaluator_f1 = MulticlassClassificationEvaluator(labelCol=\"label\", predictionCol=\"prediction\", metricName=\"f1\")\n",
        "\n",
        "accuracy = evaluator_acc.evaluate(predictions)\n",
        "f1 = evaluator_f1.evaluate(predictions)\n",
        "\n",
        "print(f\"Accuracy: {accuracy:.2f}\")\n",
        "print(f\"F1 Score: {f1:.2f}\")"
      ]
    },
    {
      "cell_type": "code",
      "execution_count": 9,
      "id": "fdd72d04",
      "metadata": {
        "id": "fdd72d04"
      },
      "outputs": [],
      "source": [
        "spark.stop()"
      ]
    },
    {
      "cell_type": "code",
      "source": [],
      "metadata": {
        "id": "DQtwQ_FYYh8p"
      },
      "id": "DQtwQ_FYYh8p",
      "execution_count": null,
      "outputs": []
    }
  ],
  "metadata": {
    "colab": {
      "provenance": []
    },
    "language_info": {
      "name": "python"
    },
    "kernelspec": {
      "name": "python3",
      "display_name": "Python 3"
    }
  },
  "nbformat": 4,
  "nbformat_minor": 5
}